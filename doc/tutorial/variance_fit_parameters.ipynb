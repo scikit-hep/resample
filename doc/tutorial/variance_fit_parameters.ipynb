{
 "cells": [
  {
   "cell_type": "markdown",
   "id": "controversial-sally",
   "metadata": {},
   "source": [
    "# Variance of fit parameters\n",
    "\n",
    "We use the bootstrap and the jackknife to compute the uncertainties of a non-linear least-squares fit. The bootstrap is generally superior to the jackknife, which we will also see here. We use `scipy.optimize.curve_fit` to perform the fit, which also estimates the parameter uncertainties with asymptotic theory. For reference, we also doing a Monte-Carlo simulation of the experiment with a large number of tries, to have a reference for the parameter uncertainties.\n",
    "\n",
    "In this case, the asymptotic theory estimate is very accurate, while the bootstrap and the jackknife estimates are similar and off. The accuracy of the non-parametric methods improves with the sample size."
   ]
  },
  {
   "cell_type": "code",
   "execution_count": 1,
   "id": "major-companion",
   "metadata": {},
   "outputs": [],
   "source": [
    "import numpy as np\n",
    "import matplotlib.pyplot as plt\n",
    "from scipy.optimize import curve_fit\n",
    "from resample import bootstrap, jackknife\n",
    "\n",
    "rng = np.random.default_rng(1)\n",
    "\n",
    "# generate some random data, each y value scatters randomly\n",
    "x = np.linspace(0, 1, 100)\n",
    "y = 1 + 10 * x ** 2\n",
    "ye = 0.5 + x\n",
    "y += rng.normal(0, ye)"
   ]
  },
  {
   "cell_type": "code",
   "execution_count": 2,
   "id": "intermediate-currency",
   "metadata": {},
   "outputs": [],
   "source": [
    "def model(x, a, b, c):\n",
    "    return a + b * x + c * x ** 2\n",
    "\n",
    "def fit(x, y, ye):\n",
    "    return curve_fit(model, x, y, sigma=ye, absolute_sigma=True)\n",
    "\n",
    "# fit original data and compute covariance estimate from asymptotic theory\n",
    "par, cov = fit(x, y, ye)"
   ]
  },
  {
   "cell_type": "code",
   "execution_count": 3,
   "id": "successful-inquiry",
   "metadata": {},
   "outputs": [
    {
     "data": {
      "image/png": "[encoded data removed]",
      "text/plain": [
       "<Figure size 432x288 with 1 Axes>"
      ]
     },
     "metadata": {
      "needs_background": "light"
     },
     "output_type": "display_data"
    }
   ],
   "source": [
    "plt.errorbar(x, y, ye, fmt=\"o\", label=\"data\")\n",
    "xm = np.linspace(np.min(x), np.max(x), 1000)\n",
    "plt.plot(xm, model(xm, *par), label=\"fit\")\n",
    "plt.legend();"
   ]
  },
  {
   "cell_type": "code",
   "execution_count": 4,
   "id": "passive-cowboy",
   "metadata": {
    "scrolled": true
   },
   "outputs": [
    {
     "name": "stdout",
     "output_type": "stream",
     "text": [
      "a =  1.10 +/- 0.18 jackknife=0.13 bootstrap=0.13 MC=0.18\n",
      "b = -0.72 +/- 1.09 jackknife=0.93 bootstrap=0.88 MC=1.04\n",
      "c = 10.52 +/- 1.22 jackknife=1.11 bootstrap=1.05 MC=1.19\n"
     ]
    }
   ],
   "source": [
    "# now only return fit parameters\n",
    "def fit2(x, y, ye):\n",
    "    return fit(x, y, ye)[0]\n",
    "\n",
    "# jackknife and bootstrap\n",
    "jvar = jackknife.variance(fit2, x, y, ye)\n",
    "bvar = bootstrap.variance(fit2, x, y, ye, size=1000, random_state=1)\n",
    "\n",
    "# Monte-Carlo simulation for reference\n",
    "mvar = []\n",
    "for itry in range(1000):\n",
    "    y2 = 1 + 10 * x ** 2 + rng.normal(0, ye)\n",
    "    mvar.append(fit2(x, y2, ye))\n",
    "mvar = np.var(mvar, axis=0)\n",
    "\n",
    "for n, p, e, ej, eb, em in zip(\"abc\", par,\n",
    "                               np.diag(cov) ** 0.5,\n",
    "                               jvar ** 0.5,\n",
    "                               bvar ** 0.5,\n",
    "                               mvar ** 0.5):\n",
    "    print(f\"{n} = {p:5.2f} +/- {e:1.2f} \"\n",
    "          f\"jackknife={ej:1.2f} \"\n",
    "          f\"bootstrap={eb:1.2f} \"\n",
    "          f\"MC={em:1.2f}\")"
   ]
  }
 ],
 "metadata": {
  "kernelspec": {
   "display_name": "Python 3 (ipykernel)",
   "language": "python",
   "name": "python3"
  },
  "language_info": {
   "codemirror_mode": {
    "name": "ipython",
    "version": 3
   },
   "file_extension": ".py",
   "mimetype": "text/x-python",
   "name": "python",
   "nbconvert_exporter": "python",
   "pygments_lexer": "ipython3",
   "version": "3.8.12"
  }
 },
 "nbformat": 4,
 "nbformat_minor": 5
}
